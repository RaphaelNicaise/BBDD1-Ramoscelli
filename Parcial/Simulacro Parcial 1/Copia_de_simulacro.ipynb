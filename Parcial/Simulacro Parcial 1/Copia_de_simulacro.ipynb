{
  "cells": [
    {
      "cell_type": "markdown",
      "id": "QuMn1Lbbdz7p",
      "metadata": {
        "id": "QuMn1Lbbdz7p"
      },
      "source": [
        "# Código de inicialización\n",
        "Este código permite inicializar las bibliotecas para usar SQLite en la máquina virtual de Google Colab. El código además elimina cualquier dato almacenado anteriormente en el archvio `ejemplos.db`. Es recomendable volver a correr el código cada vez que se comience con la resolución de un nuevo ejercicio."
      ]
    },
    {
      "cell_type": "code",
      "execution_count": 1,
      "id": "DRIupxipNuoC",
      "metadata": {
        "colab": {
          "base_uri": "https://localhost:8080/"
        },
        "id": "DRIupxipNuoC",
        "outputId": "2fe25f51-8573-47fa-9adc-1d06d06505c2"
      },
      "outputs": [
        {
          "name": "stdout",
          "output_type": "stream",
          "text": [
            "Collecting pymysql\n",
            "  Downloading PyMySQL-1.1.1-py3-none-any.whl.metadata (4.4 kB)\n",
            "Downloading PyMySQL-1.1.1-py3-none-any.whl (44 kB)\n",
            "\u001b[?25l   \u001b[90m━━━━━━━━━━━━━━━━━━━━━━━━━━━━━━━━━━━━━━━━\u001b[0m \u001b[32m0.0/45.0 kB\u001b[0m \u001b[31m?\u001b[0m eta \u001b[36m-:--:--\u001b[0m\r\u001b[2K   \u001b[90m━━━━━━━━━━━━━━━━━━━━━━━━━━━━━━━━━━━━━━━━\u001b[0m \u001b[32m45.0/45.0 kB\u001b[0m \u001b[31m1.5 MB/s\u001b[0m eta \u001b[36m0:00:00\u001b[0m\n",
            "\u001b[?25hInstalling collected packages: pymysql\n",
            "Successfully installed pymysql-1.1.1\n"
          ]
        }
      ],
      "source": [
        "!pip install pymysql\n",
        "%load_ext sql\n",
        "!rm -rf ejemplos.db\n",
        "%sql sqlite:///ejemplos.db"
      ]
    },
    {
      "cell_type": "markdown",
      "id": "cVK-sijYVIH5",
      "metadata": {
        "id": "cVK-sijYVIH5"
      },
      "source": [
        "# SIMULACRO DE PARCIAL"
      ]
    },
    {
      "cell_type": "markdown",
      "id": "NsVx4_K4NiXp",
      "metadata": {
        "id": "NsVx4_K4NiXp"
      },
      "source": [
        "## Venta de pasajes aéreos ✈️\n",
        "\n",
        "El esquema de la base de datos debe incluir las siguientes dos tablas con sus respectivos campos:\n",
        "\n",
        "1. **Vuelos**\n",
        "   - `VueloID` (INTEGER, PRIMARY KEY, AUTOINCREMENT)\n",
        "   - `Aerolinea` (TEXT, NOT NULL)\n",
        "   - `Destino` (TEXT, NOT NULL)\n",
        "   - `Precio` (REAL, NOT NULL)\n",
        "\n",
        "2. **Reservas**\n",
        "   - `ReservaID` (INTEGER, PRIMARY KEY, AUTOINCREMENT)\n",
        "   - `VueloID` (INTEGER, FOREIGN KEY → Vuelos.VueloID)\n",
        "   - `Pasajero` (TEXT, NOT NULL)\n",
        "   - `Estado` (TEXT, NOT NULL) *(Valores permitidos: 'Confirmada', 'Cancelada', 'Pendiente')*\n",
        "\n",
        "#### 3.2. **Reglas y Restricciones**\n",
        "\n",
        "- **Integridad Referencial:** `VueloID` en la tabla `Reservas` debe corresponder a un `VueloID` existente en la tabla `Vuelos`.\n",
        "- **Estados de Reservas:** Limitar los valores del campo `Estado` a 'Confirmada', 'Cancelada' y 'Pendiente'.\n",
        "- **Datos Validados:** Asegurar que los campos obligatorios no queden vacíos y que los formatos de datos sean correctos."
      ]
    },
    {
      "cell_type": "code",
      "execution_count": 15,
      "id": "k5xOpu04NiXr",
      "metadata": {
        "colab": {
          "base_uri": "https://localhost:8080/"
        },
        "id": "k5xOpu04NiXr",
        "outputId": "d667cf95-93d6-490e-ba75-76c1034b2816"
      },
      "outputs": [
        {
          "name": "stdout",
          "output_type": "stream",
          "text": [
            " * sqlite:///ejemplos.db\n",
            "Done.\n",
            "Done.\n",
            "Done.\n",
            "Done.\n"
          ]
        },
        {
          "data": {
            "text/plain": [
              "[]"
            ]
          },
          "execution_count": 15,
          "metadata": {},
          "output_type": "execute_result"
        }
      ],
      "source": [
        "%%sql\n",
        "-- Escribe aquí el código DDL para crear las tablas Vueos y Reservas\n",
        "DROP TABLE IF EXISTS Vuelos;\n",
        "CREATE TABLE IF NOT EXISTS Vuelos (\n",
        "    VueloID INTEGER PRIMARY KEY AUTOINCREMENT NOT NULL,\n",
        "    Aerolinea TEXT NOT NULL,\n",
        "    Destino TEXT NOT NULL,\n",
        "    Precio REAL NOT NULL\n",
        ");\n",
        "\n",
        "DROP TABLE IF EXISTS Reservas;\n",
        "CREATE TABLE IF NOT EXISTS Reservas (\n",
        "    ReservaID INTEGER PRIMARY KEY AUTOINCREMENT NOT NULL,\n",
        "    VueloID INT NOT NULL,\n",
        "    Pasajero TEXT NOT NULL,\n",
        "    Estado TEXT NOT NULL,\n",
        "\n",
        "    FOREIGN KEY (VueloID) REFERENCES Vuelos(VueloID)\n",
        ")"
      ]
    },
    {
      "cell_type": "markdown",
      "id": "im4yKrVtNiXt",
      "metadata": {
        "id": "im4yKrVtNiXt"
      },
      "source": [
        "**Rellenado de la tabla Ventas**\n",
        "\n"
      ]
    },
    {
      "cell_type": "code",
      "execution_count": 16,
      "id": "71b6196d",
      "metadata": {
        "colab": {
          "base_uri": "https://localhost:8080/"
        },
        "id": "71b6196d",
        "outputId": "6c6c427d-1da0-411b-e01f-2b701ac1d69b"
      },
      "outputs": [
        {
          "name": "stdout",
          "output_type": "stream",
          "text": [
            " * sqlite:///ejemplos.db\n",
            "15 rows affected.\n",
            "27 rows affected.\n"
          ]
        },
        {
          "data": {
            "text/plain": [
              "[]"
            ]
          },
          "execution_count": 16,
          "metadata": {},
          "output_type": "execute_result"
        }
      ],
      "source": [
        "# Población de la tabla Ventas\n",
        "# Insertar datos en la tabla Ventas\n",
        "%%sql\n",
        "\n",
        "\n",
        "INSERT INTO Vuelos (Aerolinea, Destino, Precio) VALUES\n",
        "('Aerolínea A', 'Ciudad X', 150.0),\n",
        "('Aerolínea B', 'Ciudad Y', 200.0),\n",
        "('Aerolínea A', 'Ciudad Z', 180.0),\n",
        "('Aerolínea C', 'Ciudad X', 220.0),\n",
        "('Aerolínea B', 'Ciudad W', 170.0),\n",
        "('Aerolínea D', 'Ciudad Y', 160.0),\n",
        "('Aerolínea E', 'Ciudad Z', 190.0),\n",
        "('Aerolínea C', 'Ciudad W', 210.0),\n",
        "('Aerolínea D', 'Ciudad X', 175.0),\n",
        "('Aerolínea E', 'Ciudad Y', 205.0),\n",
        "('Aerolínea A', 'Ciudad W', 165.0),\n",
        "('Aerolínea B', 'Ciudad X', 185.0),\n",
        "('Aerolínea C', 'Ciudad Y', 195.0),\n",
        "('Aerolínea D', 'Ciudad Z', 225.0),\n",
        "('Aerolínea E', 'Ciudad W', 230.0);\n",
        "\n",
        "INSERT INTO Reservas (VueloID, Pasajero, Estado) VALUES\n",
        "-- Pasajeros con múltiples reservas a diferentes destinos\n",
        "(1, 'Juan Pérez', 'Confirmada'),\n",
        "(2, 'María Gómez', 'Pendiente'),\n",
        "(1, 'Juan Pérez', 'Confirmada'),\n",
        "(3, 'Ana Martínez', 'Confirmada'),\n",
        "(5, 'Ana Martínez', 'Confirmada'),\n",
        "(4, 'Elena Sánchez', 'Pendiente'),\n",
        "(5, 'Pedro García', 'Confirmada'),\n",
        "(3, 'Lucía Fernández', 'Confirmada'),\n",
        "(4, 'Miguel Díaz', 'Cancelada'),\n",
        "(5, 'Sofía Ramírez', 'Confirmada'),\n",
        "(6, 'Diego Torres', 'Confirmada'),\n",
        "(7, 'Laura Morales', 'Pendiente'),\n",
        "(8, 'Andrés Castillo', 'Confirmada'),\n",
        "(6, 'Paula Reyes', 'Confirmada'),\n",
        "(9, 'Fernando Blanco', 'Cancelada'),\n",
        "(10, 'Isabel Cruz', 'Confirmada'),\n",
        "(11, 'Ricardo Vargas', 'Confirmada'),\n",
        "(12, 'Daniela Soto', 'Pendiente'),\n",
        "(13, 'Gabriel Rojas', 'Confirmada'),\n",
        "(14, 'Valentina Ruiz', 'Confirmada'),\n",
        "(15, 'Sergio Herrera', 'Cancelada'),\n",
        "(16, 'Patricia Molina', 'Confirmada'),\n",
        "(17, 'Patricia Molina', 'Confirmada'),\n",
        "(18, 'Jorge Vargas', 'Confirmada'),\n",
        "(19, 'Mónica Bravo', 'Pendiente'),\n",
        "(20, 'Fernando Paredes', 'Confirmada'),\n",
        "(21, 'Natalia González', 'Confirmada');\n",
        "\n"
      ]
    },
    {
      "cell_type": "markdown",
      "id": "622zROEDNiXt",
      "metadata": {
        "id": "622zROEDNiXt"
      },
      "source": [
        "**Consignas del ejercicio:**\n",
        "\n",
        "1. **Obtener el Número de Reservas Confirmadas por Aerolínea:**\n",
        "   - **Descripción:** Contar cuántas reservas están confirmadas para cada aerolínea.\n",
        "   - **Consulta:**\n"
      ]
    },
    {
      "cell_type": "code",
      "execution_count": 17,
      "id": "zuIw9B9UNiXu",
      "metadata": {
        "colab": {
          "base_uri": "https://localhost:8080/",
          "height": 395
        },
        "id": "zuIw9B9UNiXu",
        "outputId": "b001134e-4f3c-416a-f6b0-0a5e3d0c8c4a"
      },
      "outputs": [
        {
          "name": "stdout",
          "output_type": "stream",
          "text": [
            " * sqlite:///ejemplos.db\n",
            "Done.\n"
          ]
        },
        {
          "data": {
            "text/html": [
              "<table>\n",
              "    <thead>\n",
              "        <tr>\n",
              "            <th>VueloID</th>\n",
              "            <th>Aerolinea</th>\n",
              "            <th>Destino</th>\n",
              "            <th>Precio</th>\n",
              "        </tr>\n",
              "    </thead>\n",
              "    <tbody>\n",
              "        <tr>\n",
              "            <td>1</td>\n",
              "            <td>Aerolínea A</td>\n",
              "            <td>Ciudad X</td>\n",
              "            <td>150.0</td>\n",
              "        </tr>\n",
              "        <tr>\n",
              "            <td>2</td>\n",
              "            <td>Aerolínea B</td>\n",
              "            <td>Ciudad Y</td>\n",
              "            <td>200.0</td>\n",
              "        </tr>\n",
              "        <tr>\n",
              "            <td>3</td>\n",
              "            <td>Aerolínea A</td>\n",
              "            <td>Ciudad Z</td>\n",
              "            <td>180.0</td>\n",
              "        </tr>\n",
              "        <tr>\n",
              "            <td>4</td>\n",
              "            <td>Aerolínea C</td>\n",
              "            <td>Ciudad X</td>\n",
              "            <td>220.0</td>\n",
              "        </tr>\n",
              "        <tr>\n",
              "            <td>5</td>\n",
              "            <td>Aerolínea B</td>\n",
              "            <td>Ciudad W</td>\n",
              "            <td>170.0</td>\n",
              "        </tr>\n",
              "        <tr>\n",
              "            <td>6</td>\n",
              "            <td>Aerolínea D</td>\n",
              "            <td>Ciudad Y</td>\n",
              "            <td>160.0</td>\n",
              "        </tr>\n",
              "        <tr>\n",
              "            <td>7</td>\n",
              "            <td>Aerolínea E</td>\n",
              "            <td>Ciudad Z</td>\n",
              "            <td>190.0</td>\n",
              "        </tr>\n",
              "        <tr>\n",
              "            <td>8</td>\n",
              "            <td>Aerolínea C</td>\n",
              "            <td>Ciudad W</td>\n",
              "            <td>210.0</td>\n",
              "        </tr>\n",
              "        <tr>\n",
              "            <td>9</td>\n",
              "            <td>Aerolínea D</td>\n",
              "            <td>Ciudad X</td>\n",
              "            <td>175.0</td>\n",
              "        </tr>\n",
              "        <tr>\n",
              "            <td>10</td>\n",
              "            <td>Aerolínea E</td>\n",
              "            <td>Ciudad Y</td>\n",
              "            <td>205.0</td>\n",
              "        </tr>\n",
              "        <tr>\n",
              "            <td>11</td>\n",
              "            <td>Aerolínea A</td>\n",
              "            <td>Ciudad W</td>\n",
              "            <td>165.0</td>\n",
              "        </tr>\n",
              "        <tr>\n",
              "            <td>12</td>\n",
              "            <td>Aerolínea B</td>\n",
              "            <td>Ciudad X</td>\n",
              "            <td>185.0</td>\n",
              "        </tr>\n",
              "        <tr>\n",
              "            <td>13</td>\n",
              "            <td>Aerolínea C</td>\n",
              "            <td>Ciudad Y</td>\n",
              "            <td>195.0</td>\n",
              "        </tr>\n",
              "        <tr>\n",
              "            <td>14</td>\n",
              "            <td>Aerolínea D</td>\n",
              "            <td>Ciudad Z</td>\n",
              "            <td>225.0</td>\n",
              "        </tr>\n",
              "        <tr>\n",
              "            <td>15</td>\n",
              "            <td>Aerolínea E</td>\n",
              "            <td>Ciudad W</td>\n",
              "            <td>230.0</td>\n",
              "        </tr>\n",
              "    </tbody>\n",
              "</table>"
            ],
            "text/plain": [
              "[(1, 'Aerolínea A', 'Ciudad X', 150.0),\n",
              " (2, 'Aerolínea B', 'Ciudad Y', 200.0),\n",
              " (3, 'Aerolínea A', 'Ciudad Z', 180.0),\n",
              " (4, 'Aerolínea C', 'Ciudad X', 220.0),\n",
              " (5, 'Aerolínea B', 'Ciudad W', 170.0),\n",
              " (6, 'Aerolínea D', 'Ciudad Y', 160.0),\n",
              " (7, 'Aerolínea E', 'Ciudad Z', 190.0),\n",
              " (8, 'Aerolínea C', 'Ciudad W', 210.0),\n",
              " (9, 'Aerolínea D', 'Ciudad X', 175.0),\n",
              " (10, 'Aerolínea E', 'Ciudad Y', 205.0),\n",
              " (11, 'Aerolínea A', 'Ciudad W', 165.0),\n",
              " (12, 'Aerolínea B', 'Ciudad X', 185.0),\n",
              " (13, 'Aerolínea C', 'Ciudad Y', 195.0),\n",
              " (14, 'Aerolínea D', 'Ciudad Z', 225.0),\n",
              " (15, 'Aerolínea E', 'Ciudad W', 230.0)]"
            ]
          },
          "execution_count": 17,
          "metadata": {},
          "output_type": "execute_result"
        }
      ],
      "source": [
        "%%sql\n",
        "select * from vuelos;"
      ]
    },
    {
      "cell_type": "markdown",
      "id": "b96bb132",
      "metadata": {
        "id": "b96bb132"
      },
      "source": [
        "2. **Listar las Aerolíneas con Más de 2 Reservas Confirmadas:**\n",
        "   - **Descripción:** Identificar las aerolíneas que tienen más de dos reservas confirmadas. El resultado debe mostrarse en orden descendente según la cantidad de reservas.\n",
        "   - **Consulta:**"
      ]
    },
    {
      "cell_type": "code",
      "execution_count": 18,
      "id": "ACqNMaDGNiXu",
      "metadata": {
        "colab": {
          "base_uri": "https://localhost:8080/",
          "height": 139
        },
        "id": "ACqNMaDGNiXu",
        "outputId": "d6f414b1-d008-401d-eecc-fca6f2da7ce9"
      },
      "outputs": [
        {
          "name": "stdout",
          "output_type": "stream",
          "text": [
            " * sqlite:///ejemplos.db\n",
            "Done.\n"
          ]
        },
        {
          "data": {
            "text/html": [
              "<table>\n",
              "    <thead>\n",
              "        <tr>\n",
              "            <th>Aerolinea</th>\n",
              "            <th>CantidadReservas</th>\n",
              "        </tr>\n",
              "    </thead>\n",
              "    <tbody>\n",
              "        <tr>\n",
              "            <td>Aerolínea A</td>\n",
              "            <td>5</td>\n",
              "        </tr>\n",
              "        <tr>\n",
              "            <td>Aerolínea B</td>\n",
              "            <td>3</td>\n",
              "        </tr>\n",
              "        <tr>\n",
              "            <td>Aerolínea D</td>\n",
              "            <td>3</td>\n",
              "        </tr>\n",
              "    </tbody>\n",
              "</table>"
            ],
            "text/plain": [
              "[('Aerolínea A', 5), ('Aerolínea B', 3), ('Aerolínea D', 3)]"
            ]
          },
          "execution_count": 18,
          "metadata": {},
          "output_type": "execute_result"
        }
      ],
      "source": [
        "%%sql\n",
        "SELECT Aerolinea, COUNT(*) AS CantidadReservas\n",
        "FROM Vuelos V\n",
        "JOIN Reservas R ON V.VueloID = R.VueloID\n",
        "WHERE R.Estado = 'Confirmada'\n",
        "GROUP BY Aerolinea\n",
        "HAVING COUNT(*) > 2\n"
      ]
    },
    {
      "cell_type": "markdown",
      "id": "7a6a43fe",
      "metadata": {
        "id": "7a6a43fe"
      },
      "source": [
        "3. **Calcular el Ingreso Total por Aerolínea a partir de Reservas Confirmadas:**\n",
        "   - **Descripción:** Sumar los precios de los vuelos que tienen reservas confirmadas para cada aerolínea.\n",
        "   - **Consulta:**"
      ]
    },
    {
      "cell_type": "code",
      "execution_count": 19,
      "id": "kzhBe0qENiXv",
      "metadata": {
        "colab": {
          "base_uri": "https://localhost:8080/",
          "height": 182
        },
        "id": "kzhBe0qENiXv",
        "outputId": "254d2add-5798-49c8-a112-ae46a8eb5ef8"
      },
      "outputs": [
        {
          "name": "stdout",
          "output_type": "stream",
          "text": [
            " * sqlite:///ejemplos.db\n",
            "Done.\n"
          ]
        },
        {
          "data": {
            "text/html": [
              "<table>\n",
              "    <thead>\n",
              "        <tr>\n",
              "            <th>Aerolinea</th>\n",
              "            <th>IngresoTotal</th>\n",
              "        </tr>\n",
              "    </thead>\n",
              "    <tbody>\n",
              "        <tr>\n",
              "            <td>Aerolínea A</td>\n",
              "            <td>825.0</td>\n",
              "        </tr>\n",
              "        <tr>\n",
              "            <td>Aerolínea B</td>\n",
              "            <td>510.0</td>\n",
              "        </tr>\n",
              "        <tr>\n",
              "            <td>Aerolínea C</td>\n",
              "            <td>405.0</td>\n",
              "        </tr>\n",
              "        <tr>\n",
              "            <td>Aerolínea D</td>\n",
              "            <td>545.0</td>\n",
              "        </tr>\n",
              "        <tr>\n",
              "            <td>Aerolínea E</td>\n",
              "            <td>205.0</td>\n",
              "        </tr>\n",
              "    </tbody>\n",
              "</table>"
            ],
            "text/plain": [
              "[('Aerolínea A', 825.0),\n",
              " ('Aerolínea B', 510.0),\n",
              " ('Aerolínea C', 405.0),\n",
              " ('Aerolínea D', 545.0),\n",
              " ('Aerolínea E', 205.0)]"
            ]
          },
          "execution_count": 19,
          "metadata": {},
          "output_type": "execute_result"
        }
      ],
      "source": [
        "%%sql\n",
        "SELECT Aerolinea, SUM(Precio) AS IngresoTotal\n",
        "FROM Vuelos V\n",
        "JOIN Reservas R ON V.VueloID = R.VueloID\n",
        "WHERE R.Estado = 'Confirmada'\n",
        "GROUP BY Aerolinea\n"
      ]
    },
    {
      "cell_type": "markdown",
      "id": "prbBoM2yN1XT",
      "metadata": {
        "id": "prbBoM2yN1XT"
      },
      "source": [
        "4. **Encontrar Destinos con Más de 1 Reserva Confirmada:**\n",
        "   - **Descripción:** Identificar los destinos que tienen más de una reserva confirmada.\n",
        "   - **Consulta:**"
      ]
    },
    {
      "cell_type": "code",
      "execution_count": 21,
      "id": "IL21G5AzN5Mk",
      "metadata": {
        "colab": {
          "base_uri": "https://localhost:8080/",
          "height": 160
        },
        "id": "IL21G5AzN5Mk",
        "outputId": "19e8bd16-fc7c-41cf-d64b-fa57300dbe46"
      },
      "outputs": [
        {
          "name": "stdout",
          "output_type": "stream",
          "text": [
            " * sqlite:///ejemplos.db\n",
            "Done.\n"
          ]
        },
        {
          "data": {
            "text/html": [
              "<table>\n",
              "    <thead>\n",
              "        <tr>\n",
              "            <th>Destino</th>\n",
              "            <th>CantidadReservas</th>\n",
              "        </tr>\n",
              "    </thead>\n",
              "    <tbody>\n",
              "        <tr>\n",
              "            <td>Ciudad W</td>\n",
              "            <td>5</td>\n",
              "        </tr>\n",
              "        <tr>\n",
              "            <td>Ciudad X</td>\n",
              "            <td>2</td>\n",
              "        </tr>\n",
              "        <tr>\n",
              "            <td>Ciudad Y</td>\n",
              "            <td>4</td>\n",
              "        </tr>\n",
              "        <tr>\n",
              "            <td>Ciudad Z</td>\n",
              "            <td>3</td>\n",
              "        </tr>\n",
              "    </tbody>\n",
              "</table>"
            ],
            "text/plain": [
              "[('Ciudad W', 5), ('Ciudad X', 2), ('Ciudad Y', 4), ('Ciudad Z', 3)]"
            ]
          },
          "execution_count": 21,
          "metadata": {},
          "output_type": "execute_result"
        }
      ],
      "source": [
        "%%sql\n",
        "SELECT Destino, COUNT(*) AS CantidadReservas\n",
        "FROM Vuelos V\n",
        "JOIN Reservas R ON V.VueloID = R.VueloID\n",
        "WHERE R.Estado = 'Confirmada'\n",
        "GROUP BY Destino\n",
        "HAVING CantidadReservas > 1\n"
      ]
    },
    {
      "cell_type": "markdown",
      "id": "KmQF_pN5RUtF",
      "metadata": {
        "id": "KmQF_pN5RUtF"
      },
      "source": [
        "5. **Obtener la Aerolínea con el Mayor Ingreso Total**\n",
        "\n",
        "- **Descripción:** Identificar qué aerolínea ha generado el mayor ingreso total a partir de reservas confirmadas.\n",
        "- **Consulta:**"
      ]
    },
    {
      "cell_type": "code",
      "execution_count": 33,
      "id": "zrpwm47sRgUi",
      "metadata": {
        "colab": {
          "base_uri": "https://localhost:8080/",
          "height": 96
        },
        "id": "zrpwm47sRgUi",
        "outputId": "fb90d84f-5e9f-4953-f0f1-c2d8b510b4f7"
      },
      "outputs": [
        {
          "name": "stdout",
          "output_type": "stream",
          "text": [
            " * sqlite:///ejemplos.db\n",
            "Done.\n"
          ]
        },
        {
          "data": {
            "text/html": [
              "<table>\n",
              "    <thead>\n",
              "        <tr>\n",
              "            <th>Destino</th>\n",
              "            <th>CantidadReservas</th>\n",
              "            <th>IngresoTotal</th>\n",
              "            <th>Promedio</th>\n",
              "        </tr>\n",
              "    </thead>\n",
              "    <tbody>\n",
              "        <tr>\n",
              "            <td>Ciudad Z</td>\n",
              "            <td>3</td>\n",
              "            <td>585.0</td>\n",
              "            <td>195.0</td>\n",
              "        </tr>\n",
              "    </tbody>\n",
              "</table>"
            ],
            "text/plain": [
              "[('Ciudad Z', 3, 585.0, 195.0)]"
            ]
          },
          "execution_count": 33,
          "metadata": {},
          "output_type": "execute_result"
        }
      ],
      "source": [
        "%%sql\n",
        "SELECT Destino, COUNT(*) AS CantidadReservas, SUM(Precio) AS IngresoTotal, sum(Precio)/count(*) as Promedio\n",
        "FROM Vuelos V\n",
        "JOIN Reservas R ON V.VueloID = R.VueloID\n",
        "WHERE R.Estado = 'Confirmada'\n",
        "GROUP BY Destino\n",
        "HAVING CantidadReservas > 1\n",
        "ORDER BY promedio DESC\n",
        "LIMIT 1;\n"
      ]
    },
    {
      "cell_type": "markdown",
      "id": "LZNQH-AmRpw1",
      "metadata": {
        "id": "LZNQH-AmRpw1"
      },
      "source": [
        "6. **Listar los Pasajeros con Reservas en Más de un Destino**\n",
        "\n",
        "- **Descripción:** Identificar a los pasajeros que han reservado vuelos a más de un destino diferente.\n",
        "- **Consulta:**"
      ]
    },
    {
      "cell_type": "code",
      "execution_count": 34,
      "id": "brNuPzKgRpg4",
      "metadata": {
        "colab": {
          "base_uri": "https://localhost:8080/",
          "height": 96
        },
        "id": "brNuPzKgRpg4",
        "outputId": "b3226a4b-0463-43ab-e0e3-955977b17ce1"
      },
      "outputs": [
        {
          "name": "stdout",
          "output_type": "stream",
          "text": [
            " * sqlite:///ejemplos.db\n",
            "Done.\n"
          ]
        },
        {
          "data": {
            "text/html": [
              "<table>\n",
              "    <thead>\n",
              "        <tr>\n",
              "            <th>Pasajero</th>\n",
              "            <th>CantidadDestinos</th>\n",
              "        </tr>\n",
              "    </thead>\n",
              "    <tbody>\n",
              "        <tr>\n",
              "            <td>Ana Martínez</td>\n",
              "            <td>2</td>\n",
              "        </tr>\n",
              "    </tbody>\n",
              "</table>"
            ],
            "text/plain": [
              "[('Ana Martínez', 2)]"
            ]
          },
          "execution_count": 34,
          "metadata": {},
          "output_type": "execute_result"
        }
      ],
      "source": [
        "%%sql\n",
        "SELECT Pasajero, COUNT(DISTINCT Destino) AS CantidadDestinos\n",
        "FROM Vuelos V\n",
        "JOIN Reservas R ON V.VueloID = R.VueloID\n",
        "GROUP BY Pasajero\n",
        "HAVING CantidadDestinos > 1\n"
      ]
    },
    {
      "cell_type": "markdown",
      "id": "JZeL0ZaRRzHH",
      "metadata": {
        "id": "JZeL0ZaRRzHH"
      },
      "source": [
        "7. **Determinar el Destino Más Popular**\n",
        "\n",
        "- **Descripción:** Encontrar el destino con el mayor número de reservas confirmadas.\n",
        "- **Consulta:**"
      ]
    },
    {
      "cell_type": "code",
      "execution_count": 35,
      "id": "bB0_bMk8R0lq",
      "metadata": {
        "colab": {
          "base_uri": "https://localhost:8080/",
          "height": 96
        },
        "id": "bB0_bMk8R0lq",
        "outputId": "a6caf02a-299c-4da5-cad0-bcad50ee3523"
      },
      "outputs": [
        {
          "name": "stdout",
          "output_type": "stream",
          "text": [
            " * sqlite:///ejemplos.db\n",
            "Done.\n"
          ]
        },
        {
          "data": {
            "text/html": [
              "<table>\n",
              "    <thead>\n",
              "        <tr>\n",
              "            <th>Destino</th>\n",
              "            <th>CantidadReservas</th>\n",
              "        </tr>\n",
              "    </thead>\n",
              "    <tbody>\n",
              "        <tr>\n",
              "            <td>Ciudad W</td>\n",
              "            <td>5</td>\n",
              "        </tr>\n",
              "    </tbody>\n",
              "</table>"
            ],
            "text/plain": [
              "[('Ciudad W', 5)]"
            ]
          },
          "execution_count": 35,
          "metadata": {},
          "output_type": "execute_result"
        }
      ],
      "source": [
        "%%sql\n",
        "SELECT Destino, COUNT(*) AS CantidadReservas\n",
        "FROM Vuelos V\n",
        "JOIN Reservas R ON V.VueloID = R.VueloID\n",
        "WHERE R.Estado = 'Confirmada'\n",
        "GROUP BY Destino\n",
        "ORDER BY CantidadReservas DESC\n",
        "LIMIT 1\n"
      ]
    },
    {
      "cell_type": "markdown",
      "id": "b9D5lDOUSTMx",
      "metadata": {
        "id": "b9D5lDOUSTMx"
      },
      "source": [
        "8. **Calcular el Promedio de Precio por Aerolínea**\n",
        "\n",
        "- **Descripción:** Calcular el precio promedio de los vuelos para cada aerolínea.\n",
        "- **Consulta:**"
      ]
    },
    {
      "cell_type": "code",
      "execution_count": 36,
      "id": "3Xw19qIJSVYz",
      "metadata": {
        "colab": {
          "base_uri": "https://localhost:8080/",
          "height": 182
        },
        "id": "3Xw19qIJSVYz",
        "outputId": "420a2614-575e-441e-b145-89f3c6e0ab22"
      },
      "outputs": [
        {
          "name": "stdout",
          "output_type": "stream",
          "text": [
            " * sqlite:///ejemplos.db\n",
            "Done.\n"
          ]
        },
        {
          "data": {
            "text/html": [
              "<table>\n",
              "    <thead>\n",
              "        <tr>\n",
              "            <th>Aerolinea</th>\n",
              "            <th>PromedioPrecio</th>\n",
              "        </tr>\n",
              "    </thead>\n",
              "    <tbody>\n",
              "        <tr>\n",
              "            <td>Aerolínea A</td>\n",
              "            <td>165.0</td>\n",
              "        </tr>\n",
              "        <tr>\n",
              "            <td>Aerolínea B</td>\n",
              "            <td>185.0</td>\n",
              "        </tr>\n",
              "        <tr>\n",
              "            <td>Aerolínea C</td>\n",
              "            <td>208.33333333333334</td>\n",
              "        </tr>\n",
              "        <tr>\n",
              "            <td>Aerolínea D</td>\n",
              "            <td>186.66666666666666</td>\n",
              "        </tr>\n",
              "        <tr>\n",
              "            <td>Aerolínea E</td>\n",
              "            <td>208.33333333333334</td>\n",
              "        </tr>\n",
              "    </tbody>\n",
              "</table>"
            ],
            "text/plain": [
              "[('Aerolínea A', 165.0),\n",
              " ('Aerolínea B', 185.0),\n",
              " ('Aerolínea C', 208.33333333333334),\n",
              " ('Aerolínea D', 186.66666666666666),\n",
              " ('Aerolínea E', 208.33333333333334)]"
            ]
          },
          "execution_count": 36,
          "metadata": {},
          "output_type": "execute_result"
        }
      ],
      "source": [
        "%%sql\n",
        "SELECT Aerolinea, AVG(Precio) AS PromedioPrecio\n",
        "FROM Vuelos\n",
        "GROUP BY Aerolinea\n"
      ]
    },
    {
      "cell_type": "markdown",
      "id": "fXEH_UMFOLip",
      "metadata": {
        "id": "fXEH_UMFOLip"
      },
      "source": [
        "Al finalizar el trabajo práctico, deberás entregar:\n",
        "\n",
        "1. **Jupyter Notebook** completo con todas las celdas ejecutadas y resultados visibles. Deberá descargar el archivo ```.ipynb``` en su computadora y subirlo a la tarea del aula virtual.\n",
        "2. **Diagrama Esquena de Tablas**. Debe descargar una imagen del diagrama u subirla a la tarea-\n",
        "\n",
        "### **Criterios de Evaluación**\n",
        "\n",
        "El trabajo práctico será evaluado en función de los siguientes aspectos:\n",
        "\n",
        "- **Diseño del Esquema de la Base de Datos (30%)**\n",
        "  - Correcta definición de las dos tablas.\n",
        "  - Adecuada implementación de claves primarias y foráneas.\n",
        "  - Implementación de restricciones y reglas de integridad.\n",
        "\n",
        "\n",
        "- **Consultas SQL (70%)**\n",
        "  - Correcta ejecución de las consultas solicitadas utilizando `JOIN`, `GROUP BY` y `HAVING`.\n",
        "  - Capacidad para extraer información relevante del sistema.\n"
      ]
    }
  ],
  "metadata": {
    "colab": {
      "provenance": []
    },
    "kernelspec": {
      "display_name": "Python 3",
      "name": "python3"
    },
    "language_info": {
      "name": "python"
    }
  },
  "nbformat": 4,
  "nbformat_minor": 5
}
