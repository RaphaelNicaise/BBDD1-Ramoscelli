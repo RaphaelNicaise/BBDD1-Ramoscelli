{
  "cells": [
    {
      "cell_type": "markdown",
      "id": "QuMn1Lbbdz7p",
      "metadata": {
        "id": "QuMn1Lbbdz7p"
      },
      "source": [
        "# Código de inicialización\n",
        "Este código permite inicializar las bibliotecas para usar SQLite en la máquina virtual de Google Colab. El código además elimina cualquier dato almacenado anteriormente en el archvio `ejemplos.db`. Es recomendable volver a correr el código cada vez que se comience con la resolución de un nuevo ejercicio."
      ]
    },
    {
      "cell_type": "code",
      "execution_count": 1,
      "id": "IFHmq0oNKLZQ",
      "metadata": {
        "colab": {
          "base_uri": "https://localhost:8080/"
        },
        "id": "IFHmq0oNKLZQ",
        "outputId": "3d3752d8-8643-456a-d29f-5a6ad1e6bdc1"
      },
      "outputs": [
        {
          "name": "stdout",
          "output_type": "stream",
          "text": [
            "Requirement already satisfied: pymysql in c:\\users\\raphy\\appdata\\local\\programs\\python\\python312\\lib\\site-packages (1.1.1)\n"
          ]
        },
        {
          "ename": "ModuleNotFoundError",
          "evalue": "No module named 'sql'",
          "output_type": "error",
          "traceback": [
            "\u001b[1;31m---------------------------------------------------------------------------\u001b[0m",
            "\u001b[1;31mModuleNotFoundError\u001b[0m                       Traceback (most recent call last)",
            "Cell \u001b[1;32mIn[1], line 2\u001b[0m\n\u001b[0;32m      1\u001b[0m get_ipython()\u001b[38;5;241m.\u001b[39msystem(\u001b[38;5;124m'\u001b[39m\u001b[38;5;124mpip install pymysql\u001b[39m\u001b[38;5;124m'\u001b[39m)\n\u001b[1;32m----> 2\u001b[0m \u001b[43mget_ipython\u001b[49m\u001b[43m(\u001b[49m\u001b[43m)\u001b[49m\u001b[38;5;241;43m.\u001b[39;49m\u001b[43mrun_line_magic\u001b[49m\u001b[43m(\u001b[49m\u001b[38;5;124;43m'\u001b[39;49m\u001b[38;5;124;43mload_ext\u001b[39;49m\u001b[38;5;124;43m'\u001b[39;49m\u001b[43m,\u001b[49m\u001b[43m \u001b[49m\u001b[38;5;124;43m'\u001b[39;49m\u001b[38;5;124;43msql\u001b[39;49m\u001b[38;5;124;43m'\u001b[39;49m\u001b[43m)\u001b[49m\n\u001b[0;32m      3\u001b[0m get_ipython()\u001b[38;5;241m.\u001b[39msystem(\u001b[38;5;124m'\u001b[39m\u001b[38;5;124mrm -rf ejemplos.db\u001b[39m\u001b[38;5;124m'\u001b[39m)\n\u001b[0;32m      4\u001b[0m get_ipython()\u001b[38;5;241m.\u001b[39mrun_line_magic(\u001b[38;5;124m'\u001b[39m\u001b[38;5;124msql\u001b[39m\u001b[38;5;124m'\u001b[39m, \u001b[38;5;124m'\u001b[39m\u001b[38;5;124msqlite:///ejemplos.db\u001b[39m\u001b[38;5;124m'\u001b[39m)\n",
            "File \u001b[1;32m~\\AppData\\Roaming\\Python\\Python312\\site-packages\\IPython\\core\\interactiveshell.py:2480\u001b[0m, in \u001b[0;36mInteractiveShell.run_line_magic\u001b[1;34m(self, magic_name, line, _stack_depth)\u001b[0m\n\u001b[0;32m   2478\u001b[0m     kwargs[\u001b[38;5;124m'\u001b[39m\u001b[38;5;124mlocal_ns\u001b[39m\u001b[38;5;124m'\u001b[39m] \u001b[38;5;241m=\u001b[39m \u001b[38;5;28mself\u001b[39m\u001b[38;5;241m.\u001b[39mget_local_scope(stack_depth)\n\u001b[0;32m   2479\u001b[0m \u001b[38;5;28;01mwith\u001b[39;00m \u001b[38;5;28mself\u001b[39m\u001b[38;5;241m.\u001b[39mbuiltin_trap:\n\u001b[1;32m-> 2480\u001b[0m     result \u001b[38;5;241m=\u001b[39m \u001b[43mfn\u001b[49m\u001b[43m(\u001b[49m\u001b[38;5;241;43m*\u001b[39;49m\u001b[43margs\u001b[49m\u001b[43m,\u001b[49m\u001b[43m \u001b[49m\u001b[38;5;241;43m*\u001b[39;49m\u001b[38;5;241;43m*\u001b[39;49m\u001b[43mkwargs\u001b[49m\u001b[43m)\u001b[49m\n\u001b[0;32m   2482\u001b[0m \u001b[38;5;66;03m# The code below prevents the output from being displayed\u001b[39;00m\n\u001b[0;32m   2483\u001b[0m \u001b[38;5;66;03m# when using magics with decorator @output_can_be_silenced\u001b[39;00m\n\u001b[0;32m   2484\u001b[0m \u001b[38;5;66;03m# when the last Python token in the expression is a ';'.\u001b[39;00m\n\u001b[0;32m   2485\u001b[0m \u001b[38;5;28;01mif\u001b[39;00m \u001b[38;5;28mgetattr\u001b[39m(fn, magic\u001b[38;5;241m.\u001b[39mMAGIC_OUTPUT_CAN_BE_SILENCED, \u001b[38;5;28;01mFalse\u001b[39;00m):\n",
            "File \u001b[1;32m~\\AppData\\Roaming\\Python\\Python312\\site-packages\\IPython\\core\\magics\\extension.py:33\u001b[0m, in \u001b[0;36mExtensionMagics.load_ext\u001b[1;34m(self, module_str)\u001b[0m\n\u001b[0;32m     31\u001b[0m \u001b[38;5;28;01mif\u001b[39;00m \u001b[38;5;129;01mnot\u001b[39;00m module_str:\n\u001b[0;32m     32\u001b[0m     \u001b[38;5;28;01mraise\u001b[39;00m UsageError(\u001b[38;5;124m'\u001b[39m\u001b[38;5;124mMissing module name.\u001b[39m\u001b[38;5;124m'\u001b[39m)\n\u001b[1;32m---> 33\u001b[0m res \u001b[38;5;241m=\u001b[39m \u001b[38;5;28;43mself\u001b[39;49m\u001b[38;5;241;43m.\u001b[39;49m\u001b[43mshell\u001b[49m\u001b[38;5;241;43m.\u001b[39;49m\u001b[43mextension_manager\u001b[49m\u001b[38;5;241;43m.\u001b[39;49m\u001b[43mload_extension\u001b[49m\u001b[43m(\u001b[49m\u001b[43mmodule_str\u001b[49m\u001b[43m)\u001b[49m\n\u001b[0;32m     35\u001b[0m \u001b[38;5;28;01mif\u001b[39;00m res \u001b[38;5;241m==\u001b[39m \u001b[38;5;124m'\u001b[39m\u001b[38;5;124malready loaded\u001b[39m\u001b[38;5;124m'\u001b[39m:\n\u001b[0;32m     36\u001b[0m     \u001b[38;5;28mprint\u001b[39m(\u001b[38;5;124m\"\u001b[39m\u001b[38;5;124mThe \u001b[39m\u001b[38;5;132;01m%s\u001b[39;00m\u001b[38;5;124m extension is already loaded. To reload it, use:\u001b[39m\u001b[38;5;124m\"\u001b[39m \u001b[38;5;241m%\u001b[39m module_str)\n",
            "File \u001b[1;32m~\\AppData\\Roaming\\Python\\Python312\\site-packages\\IPython\\core\\extensions.py:62\u001b[0m, in \u001b[0;36mExtensionManager.load_extension\u001b[1;34m(self, module_str)\u001b[0m\n\u001b[0;32m     55\u001b[0m \u001b[38;5;250m\u001b[39m\u001b[38;5;124;03m\"\"\"Load an IPython extension by its module name.\u001b[39;00m\n\u001b[0;32m     56\u001b[0m \n\u001b[0;32m     57\u001b[0m \u001b[38;5;124;03mReturns the string \"already loaded\" if the extension is already loaded,\u001b[39;00m\n\u001b[0;32m     58\u001b[0m \u001b[38;5;124;03m\"no load function\" if the module doesn't have a load_ipython_extension\u001b[39;00m\n\u001b[0;32m     59\u001b[0m \u001b[38;5;124;03mfunction, or None if it succeeded.\u001b[39;00m\n\u001b[0;32m     60\u001b[0m \u001b[38;5;124;03m\"\"\"\u001b[39;00m\n\u001b[0;32m     61\u001b[0m \u001b[38;5;28;01mtry\u001b[39;00m:\n\u001b[1;32m---> 62\u001b[0m     \u001b[38;5;28;01mreturn\u001b[39;00m \u001b[38;5;28;43mself\u001b[39;49m\u001b[38;5;241;43m.\u001b[39;49m\u001b[43m_load_extension\u001b[49m\u001b[43m(\u001b[49m\u001b[43mmodule_str\u001b[49m\u001b[43m)\u001b[49m\n\u001b[0;32m     63\u001b[0m \u001b[38;5;28;01mexcept\u001b[39;00m \u001b[38;5;167;01mModuleNotFoundError\u001b[39;00m:\n\u001b[0;32m     64\u001b[0m     \u001b[38;5;28;01mif\u001b[39;00m module_str \u001b[38;5;129;01min\u001b[39;00m BUILTINS_EXTS:\n",
            "File \u001b[1;32m~\\AppData\\Roaming\\Python\\Python312\\site-packages\\IPython\\core\\extensions.py:77\u001b[0m, in \u001b[0;36mExtensionManager._load_extension\u001b[1;34m(self, module_str)\u001b[0m\n\u001b[0;32m     75\u001b[0m \u001b[38;5;28;01mwith\u001b[39;00m \u001b[38;5;28mself\u001b[39m\u001b[38;5;241m.\u001b[39mshell\u001b[38;5;241m.\u001b[39mbuiltin_trap:\n\u001b[0;32m     76\u001b[0m     \u001b[38;5;28;01mif\u001b[39;00m module_str \u001b[38;5;129;01mnot\u001b[39;00m \u001b[38;5;129;01min\u001b[39;00m sys\u001b[38;5;241m.\u001b[39mmodules:\n\u001b[1;32m---> 77\u001b[0m         mod \u001b[38;5;241m=\u001b[39m \u001b[43mimport_module\u001b[49m\u001b[43m(\u001b[49m\u001b[43mmodule_str\u001b[49m\u001b[43m)\u001b[49m\n\u001b[0;32m     78\u001b[0m     mod \u001b[38;5;241m=\u001b[39m sys\u001b[38;5;241m.\u001b[39mmodules[module_str]\n\u001b[0;32m     79\u001b[0m     \u001b[38;5;28;01mif\u001b[39;00m \u001b[38;5;28mself\u001b[39m\u001b[38;5;241m.\u001b[39m_call_load_ipython_extension(mod):\n",
            "File \u001b[1;32mc:\\Users\\raphy\\AppData\\Local\\Programs\\Python\\Python312\\Lib\\importlib\\__init__.py:90\u001b[0m, in \u001b[0;36mimport_module\u001b[1;34m(name, package)\u001b[0m\n\u001b[0;32m     88\u001b[0m             \u001b[38;5;28;01mbreak\u001b[39;00m\n\u001b[0;32m     89\u001b[0m         level \u001b[38;5;241m+\u001b[39m\u001b[38;5;241m=\u001b[39m \u001b[38;5;241m1\u001b[39m\n\u001b[1;32m---> 90\u001b[0m \u001b[38;5;28;01mreturn\u001b[39;00m \u001b[43m_bootstrap\u001b[49m\u001b[38;5;241;43m.\u001b[39;49m\u001b[43m_gcd_import\u001b[49m\u001b[43m(\u001b[49m\u001b[43mname\u001b[49m\u001b[43m[\u001b[49m\u001b[43mlevel\u001b[49m\u001b[43m:\u001b[49m\u001b[43m]\u001b[49m\u001b[43m,\u001b[49m\u001b[43m \u001b[49m\u001b[43mpackage\u001b[49m\u001b[43m,\u001b[49m\u001b[43m \u001b[49m\u001b[43mlevel\u001b[49m\u001b[43m)\u001b[49m\n",
            "File \u001b[1;32m<frozen importlib._bootstrap>:1387\u001b[0m, in \u001b[0;36m_gcd_import\u001b[1;34m(name, package, level)\u001b[0m\n",
            "File \u001b[1;32m<frozen importlib._bootstrap>:1360\u001b[0m, in \u001b[0;36m_find_and_load\u001b[1;34m(name, import_)\u001b[0m\n",
            "File \u001b[1;32m<frozen importlib._bootstrap>:1324\u001b[0m, in \u001b[0;36m_find_and_load_unlocked\u001b[1;34m(name, import_)\u001b[0m\n",
            "\u001b[1;31mModuleNotFoundError\u001b[0m: No module named 'sql'"
          ]
        }
      ],
      "source": [
        "!pip install pymysql\n",
        "%load_ext sql\n",
        "!rm -rf ejemplos.db\n",
        "%sql sqlite:///ejemplos.db"
      ]
    },
    {
      "cell_type": "markdown",
      "id": "4bfd6149",
      "metadata": {
        "id": "4bfd6149"
      },
      "source": [
        "# TP2: Ejercicios de SQL"
      ]
    },
    {
      "cell_type": "markdown",
      "id": "75f13c80",
      "metadata": {
        "id": "75f13c80"
      },
      "source": [
        "\n",
        "## EJERCICIO 1:  Base de datos para un club náutico\n",
        "\n",
        "### Descripción:\n",
        "Se quiere diseñar una base de datos relacional para gestionar los datos de los socios de un club náutico. De cada socio se guardan los datos personales y la información de los barcos que posee:\n",
        "- Número de matrícula, nombre, número de amarre, cuota.\n",
        "\n",
        "Además, se almacena información sobre las salidas realizadas por cada barco:\n",
        "- Fecha y hora de salida, destino y datos del patrón (que no tiene que ser el propietario ni un socio del club).\n",
        "\n",
        "### Esquema propuesto:\n",
        "- Tabla `Socios`: Almacena la información de los socios del club.\n",
        "- Tabla `Barcos`: Almacena la información de los barcos y sus propietarios.\n",
        "- Tabla `Salidas`: Almacena la información de las salidas realizadas por los barcos.\n",
        "\n",
        "### Esquema de tablas\n",
        "Este sería el esquema de tablas en lenguaje DBML\n",
        "\n",
        "```dbml\n",
        "Table Socios {\n",
        "    id_socio INT [pk]\n",
        "    nombre VARCHAR(100)\n",
        "    direccion VARCHAR(255)\n",
        "}\n",
        "\n",
        "Table Barcos {\n",
        "    matricula VARCHAR(20) [pk]\n",
        "    nombre VARCHAR(100)\n",
        "    numero_amarre INT\n",
        "    cuota DECIMAL(10, 2)\n",
        "    id_socio INT [ref: > Socios.id_socio]\n",
        "}\n",
        "\n",
        "Table Salidas {\n",
        "    id_salida INT [pk]\n",
        "    matricula VARCHAR(20) [ref: > Barcos.matricula]\n",
        "    fecha_salida DATE\n",
        "    hora_salida TIME\n",
        "    destino VARCHAR(100)\n",
        "    patron_nombre VARCHAR(100)\n",
        "    patron_direccion VARCHAR(255)\n",
        "}\n",
        "```\n",
        "\n",
        "### Escriba abajo el código SQL necesario para crear las tablas:\n",
        "\n"
      ]
    },
    {
      "cell_type": "code",
      "execution_count": 7,
      "id": "WQJ1ZlDikHxc",
      "metadata": {
        "colab": {
          "base_uri": "https://localhost:8080/"
        },
        "id": "WQJ1ZlDikHxc",
        "outputId": "65c2989c-849b-47c7-b8ec-eb01b722eb57"
      },
      "outputs": [
        {
          "name": "stdout",
          "output_type": "stream",
          "text": [
            " * sqlite:///ejemplos.db\n",
            "Done.\n",
            "Done.\n",
            "Done.\n",
            "Done.\n",
            "Done.\n",
            "Done.\n"
          ]
        },
        {
          "data": {
            "text/plain": [
              "[]"
            ]
          },
          "execution_count": 7,
          "metadata": {},
          "output_type": "execute_result"
        }
      ],
      "source": [
        "%%sql\n",
        "DROP TABLE IF EXISTS socios;\n",
        "CREATE TABLE socios (\n",
        "  id_socio INT AUTO_INCREMENT NOT NULL,\n",
        "  nombre VARCHAR(100),\n",
        "  direccion VARCHAR(255),\n",
        "  PRIMARY KEY(id_socio)\n",
        ");\n",
        "\n",
        "DROP TABLE IF EXISTS barcos;\n",
        "CREATE TABLE barcos (\n",
        "  matricula VARCHAR(20),\n",
        "  nombre VARCHAR(100),\n",
        "  numero_amarre INT,\n",
        "  cuota DECIMAL(10,2),\n",
        "  id_socio INT,\n",
        "  PRIMARY KEY(matricula),\n",
        "  FOREIGN KEY (id_socio) REFERENCES socios (id_socio)\n",
        ");\n",
        "\n",
        "DROP TABLE IF EXISTS salidas;\n",
        "CREATE TABLE salidas (\n",
        "  id_salida INT AUTO_INCREMENT NOT NULL,\n",
        "  matricula VARCHAR(20),\n",
        "  fecha_salida DATE,\n",
        "  hora_salida TIME,\n",
        "  destino VARCHAR(100),\n",
        "  patron_nombre VARCHAR(100),\n",
        "  patron_direccion VARCHAR(255),\n",
        "  PRIMARY KEY (id_salida),\n",
        "  FOREIGN KEY (matricula) REFERENCES barcos (matricula)\n",
        ");"
      ]
    },
    {
      "cell_type": "markdown",
      "id": "CvWQCFgMw6Aw",
      "metadata": {
        "id": "CvWQCFgMw6Aw"
      },
      "source": [
        "El código SQL de abajo le permite popular (es decir, rellenar) las tablas con datos."
      ]
    },
    {
      "cell_type": "code",
      "execution_count": 8,
      "id": "mGeEPoC8luIN",
      "metadata": {
        "colab": {
          "base_uri": "https://localhost:8080/"
        },
        "id": "mGeEPoC8luIN",
        "outputId": "b42abf35-0e8d-4ff4-e8dc-2f5f9ca45508"
      },
      "outputs": [
        {
          "name": "stdout",
          "output_type": "stream",
          "text": [
            " * sqlite:///ejemplos.db\n",
            "10 rows affected.\n",
            "10 rows affected.\n",
            "10 rows affected.\n"
          ]
        },
        {
          "data": {
            "text/plain": [
              "[]"
            ]
          },
          "execution_count": 8,
          "metadata": {},
          "output_type": "execute_result"
        }
      ],
      "source": [
        "%%sql\n",
        "-- Populación de las tablas\n",
        "INSERT INTO Socios (id_socio, nombre, direccion)\n",
        "VALUES\n",
        "(1, 'Juan Pérez', 'Calle Mayor 1, Madrid'),\n",
        "(2, 'Ana García', 'Calle Luna 5, Barcelona'),\n",
        "(3, 'Luis Fernández', 'Avenida del Sol 10, Valencia'),\n",
        "(4, 'Laura Sánchez', 'Plaza del Mar 3, Alicante'),\n",
        "(5, 'Carlos López', 'Calle Río 8, Sevilla'),\n",
        "(6, 'Marta Díaz', 'Calle de la Sierra 12, Zaragoza'),\n",
        "(7, 'Pedro Gómez', 'Calle Nueva 20, Bilbao'),\n",
        "(8, 'Lucía Jiménez', 'Calle Real 30, Madrid'),\n",
        "(9, 'María Torres', 'Calle Verde 15, Málaga'),\n",
        "(10, 'Fernando Martín', 'Calle Azul 25, Murcia');\n",
        "\n",
        "INSERT INTO Barcos (matricula, nombre, numero_amarre, cuota, id_socio)\n",
        "VALUES\n",
        "('ABC123', 'El Viento', 12, 600.50, 1),\n",
        "('DEF456', 'La Brisa', 8, 450.00, 2),\n",
        "('GHI789', 'El Sol', 15, 700.00, 3),\n",
        "('JKL012', 'El Mar', 10, 550.75, 4),\n",
        "('MNO345', 'La Luna', 18, 620.30, 5),\n",
        "('PQR678', 'El Horizonte', 20, 780.90, 6),\n",
        "('STU901', 'El Amanecer', 5, 400.00, 7),\n",
        "('VWX234', 'La Estrella', 7, 520.50, 8),\n",
        "('YZA567', 'La Marea', 14, 480.75, 9),\n",
        "('BCD890', 'El Océano', 6, 630.80, 10);\n",
        "\n",
        "INSERT INTO Salidas (id_salida, matricula, fecha_salida, hora_salida, destino, patron_nombre, patron_direccion)\n",
        "VALUES\n",
        "(1, 'ABC123', '2023-07-15', '10:30:00', 'Mallorca', 'Patrón 1', 'Calle de la Playa 1, Palma'),\n",
        "(2, 'DEF456', '2023-07-20', '09:00:00', 'Ibiza', 'Patrón 2', 'Avenida del Puerto 3, Valencia'),\n",
        "(3, 'GHI789', '2023-07-22', '08:45:00', 'Menorca', 'Patrón 3', 'Calle de la Costa 10, Alicante'),\n",
        "(4, 'JKL012', '2023-07-25', '11:15:00', 'Mallorca', 'Patrón 4', 'Plaza del Faro 5, Barcelona'),\n",
        "(5, 'MNO345', '2023-08-01', '14:00:00', 'Formentera', 'Patrón 5', 'Calle del Puerto 20, Ibiza'),\n",
        "(6, 'PQR678', '2023-08-05', '07:30:00', 'Mallorca', 'Patrón 6', 'Calle de las Olas 15, Palma'),\n",
        "(7, 'STU901', '2023-08-10', '12:00:00', 'Ibiza', 'Patrón 7', 'Avenida de la Marina 7, Barcelona'),\n",
        "(8, 'VWX234', '2023-08-12', '09:30:00', 'Cabrera', 'Patrón 8', 'Calle del Mar 12, Alicante'),\n",
        "(9, 'YZA567', '2023-08-15', '10:00:00', 'Formentera', 'Patrón 9', 'Calle del Sol 4, Ibiza'),\n",
        "(10, 'BCD890', '2023-08-20', '08:00:00', 'Menorca', 'Patrón 10', 'Plaza del Faro 2, Palma');\n"
      ]
    },
    {
      "cell_type": "markdown",
      "id": "0ofA3-cklW_5",
      "metadata": {
        "id": "0ofA3-cklW_5"
      },
      "source": [
        "### Resolver estas consignas sin usar JOIN:\n",
        "Estas consirgnas deben resolverse usando lo visto en la clase del lunes 16/09 antes de ver la parte de JOIN. Esto es: subconsultas, etc.\n",
        "1. ¿Qué socios tienen barcos amarrados en un número de amarre mayor que 10?"
      ]
    },
    {
      "cell_type": "code",
      "execution_count": 18,
      "id": "tfBNiEDx6b0C",
      "metadata": {
        "colab": {
          "base_uri": "https://localhost:8080/",
          "height": 182
        },
        "id": "tfBNiEDx6b0C",
        "outputId": "1fcb5ad0-354d-4693-bb23-7cd449ed3f97"
      },
      "outputs": [
        {
          "name": "stdout",
          "output_type": "stream",
          "text": [
            " * sqlite:///ejemplos.db\n",
            "Done.\n"
          ]
        },
        {
          "data": {
            "text/html": [
              "<table>\n",
              "    <thead>\n",
              "        <tr>\n",
              "            <th>id_socio</th>\n",
              "        </tr>\n",
              "    </thead>\n",
              "    <tbody>\n",
              "        <tr>\n",
              "            <td>1</td>\n",
              "        </tr>\n",
              "        <tr>\n",
              "            <td>3</td>\n",
              "        </tr>\n",
              "        <tr>\n",
              "            <td>5</td>\n",
              "        </tr>\n",
              "        <tr>\n",
              "            <td>6</td>\n",
              "        </tr>\n",
              "        <tr>\n",
              "            <td>9</td>\n",
              "        </tr>\n",
              "    </tbody>\n",
              "</table>"
            ],
            "text/plain": [
              "[(1,), (3,), (5,), (6,), (9,)]"
            ]
          },
          "execution_count": 18,
          "metadata": {},
          "output_type": "execute_result"
        }
      ],
      "source": [
        "%%sql\n"
      ]
    },
    {
      "cell_type": "code",
      "execution_count": 68,
      "id": "Kbdb2-U7lbJo",
      "metadata": {
        "colab": {
          "base_uri": "https://localhost:8080/",
          "height": 182
        },
        "id": "Kbdb2-U7lbJo",
        "outputId": "29ac7a03-e908-444f-e449-0d632bcf5874"
      },
      "outputs": [
        {
          "name": "stdout",
          "output_type": "stream",
          "text": [
            " * sqlite:///ejemplos.db\n",
            "Done.\n"
          ]
        },
        {
          "data": {
            "text/html": [
              "<table>\n",
              "    <thead>\n",
              "        <tr>\n",
              "            <th>nombre</th>\n",
              "        </tr>\n",
              "    </thead>\n",
              "    <tbody>\n",
              "        <tr>\n",
              "            <td>Juan Pérez</td>\n",
              "        </tr>\n",
              "        <tr>\n",
              "            <td>Luis Fernández</td>\n",
              "        </tr>\n",
              "        <tr>\n",
              "            <td>Carlos López</td>\n",
              "        </tr>\n",
              "        <tr>\n",
              "            <td>Marta Díaz</td>\n",
              "        </tr>\n",
              "        <tr>\n",
              "            <td>María Torres</td>\n",
              "        </tr>\n",
              "    </tbody>\n",
              "</table>"
            ],
            "text/plain": [
              "[('Juan Pérez',),\n",
              " ('Luis Fernández',),\n",
              " ('Carlos López',),\n",
              " ('Marta Díaz',),\n",
              " ('María Torres',)]"
            ]
          },
          "execution_count": 68,
          "metadata": {},
          "output_type": "execute_result"
        }
      ],
      "source": [
        "%%sql\n",
        "-- estos son los id_socio\n",
        "select barcos.id_socio\n",
        "from barcos\n",
        "where numero_amarre > 10;\n",
        "\n",
        "-- si queremos ver sus nombres usamos esta subconsulta\n",
        "select socios.nombre\n",
        "from socios\n",
        "where socios.id_socio in (select barcos.id_socio\n",
        "                          from barcos\n",
        "                          where numero_amarre > 10);\n"
      ]
    },
    {
      "cell_type": "markdown",
      "id": "mWRK4z1yl9-X",
      "metadata": {
        "id": "mWRK4z1yl9-X"
      },
      "source": [
        "2. ¿Cuáles son los nombres de los barcos y sus cuotas de aquellos barcos cuyo socio se llama 'Juan Pérez'?"
      ]
    },
    {
      "cell_type": "code",
      "execution_count": 66,
      "id": "cZyf9vCpmE-G",
      "metadata": {
        "colab": {
          "base_uri": "https://localhost:8080/",
          "height": 116
        },
        "id": "cZyf9vCpmE-G",
        "outputId": "b068215d-0fe3-4015-f13d-c8f9ae125d70"
      },
      "outputs": [
        {
          "name": "stdout",
          "output_type": "stream",
          "text": [
            " * sqlite:///ejemplos.db\n",
            "Done.\n",
            "Done.\n"
          ]
        },
        {
          "data": {
            "text/html": [
              "<table>\n",
              "    <thead>\n",
              "        <tr>\n",
              "            <th>nombre</th>\n",
              "        </tr>\n",
              "    </thead>\n",
              "    <tbody>\n",
              "        <tr>\n",
              "            <td>El Viento</td>\n",
              "        </tr>\n",
              "    </tbody>\n",
              "</table>"
            ],
            "text/plain": [
              "[('El Viento',)]"
            ]
          },
          "execution_count": 66,
          "metadata": {},
          "output_type": "execute_result"
        }
      ],
      "source": [
        "%%sql\n",
        "-- esto devuelve la id del socio con nombre juan perez\n",
        "select socios.id_socio\n",
        "from socios\n",
        "where nombre like '%Juan Pérez%';\n",
        "\n",
        "-- con la id del socio podemos ver el nombre de los barcos barcos que tiene\n",
        "select barcos.nombre\n",
        "from barcos\n",
        "where barcos.id_socio = (\n",
        "  select socios.id_socio\n",
        "  from socios\n",
        "  where nombre like 'Juan Pérez');\n"
      ]
    },
    {
      "cell_type": "markdown",
      "id": "pbpnGkeFmPkq",
      "metadata": {
        "id": "pbpnGkeFmPkq"
      },
      "source": [
        "3. ¿Cuántas salidas ha realizado el barco con matrícula 'ABC123'?"
      ]
    },
    {
      "cell_type": "code",
      "execution_count": 33,
      "id": "nuj5n3DZmS3N",
      "metadata": {
        "colab": {
          "base_uri": "https://localhost:8080/",
          "height": 98
        },
        "id": "nuj5n3DZmS3N",
        "outputId": "110dcee3-dfea-45ce-ab13-ebcd26892446"
      },
      "outputs": [
        {
          "name": "stdout",
          "output_type": "stream",
          "text": [
            " * sqlite:///ejemplos.db\n",
            "Done.\n"
          ]
        },
        {
          "data": {
            "text/html": [
              "<table>\n",
              "    <thead>\n",
              "        <tr>\n",
              "            <th>matricula</th>\n",
              "            <th>Salidas</th>\n",
              "        </tr>\n",
              "    </thead>\n",
              "    <tbody>\n",
              "        <tr>\n",
              "            <td>ABC123</td>\n",
              "            <td>1</td>\n",
              "        </tr>\n",
              "    </tbody>\n",
              "</table>"
            ],
            "text/plain": [
              "[('ABC123', 1)]"
            ]
          },
          "execution_count": 33,
          "metadata": {},
          "output_type": "execute_result"
        }
      ],
      "source": [
        "%%sql\n",
        "select matricula,count(id_salida) as salidas\n",
        "from salidas\n",
        "where matricula like 'ABC123';\n"
      ]
    },
    {
      "cell_type": "markdown",
      "id": "GgyZ5pjymbXx",
      "metadata": {
        "id": "GgyZ5pjymbXx"
      },
      "source": [
        "4. Lista los barcos que tienen una cuota mayor a 500 y sus respectivos socios."
      ]
    },
    {
      "cell_type": "code",
      "execution_count": 62,
      "id": "szEj8t7WmcpA",
      "metadata": {
        "colab": {
          "base_uri": "https://localhost:8080/",
          "height": 225
        },
        "id": "szEj8t7WmcpA",
        "outputId": "f4da21d4-c277-451f-b073-86d1c538e737"
      },
      "outputs": [
        {
          "name": "stdout",
          "output_type": "stream",
          "text": [
            " * sqlite:///ejemplos.db\n",
            "Done.\n"
          ]
        },
        {
          "data": {
            "text/html": [
              "<table>\n",
              "    <thead>\n",
              "        <tr>\n",
              "            <th>nombre</th>\n",
              "            <th>id_socio</th>\n",
              "        </tr>\n",
              "    </thead>\n",
              "    <tbody>\n",
              "        <tr>\n",
              "            <td>El Viento</td>\n",
              "            <td>1</td>\n",
              "        </tr>\n",
              "        <tr>\n",
              "            <td>El Sol</td>\n",
              "            <td>3</td>\n",
              "        </tr>\n",
              "        <tr>\n",
              "            <td>El Mar</td>\n",
              "            <td>4</td>\n",
              "        </tr>\n",
              "        <tr>\n",
              "            <td>La Luna</td>\n",
              "            <td>5</td>\n",
              "        </tr>\n",
              "        <tr>\n",
              "            <td>El Horizonte</td>\n",
              "            <td>6</td>\n",
              "        </tr>\n",
              "        <tr>\n",
              "            <td>La Estrella</td>\n",
              "            <td>8</td>\n",
              "        </tr>\n",
              "        <tr>\n",
              "            <td>El Océano</td>\n",
              "            <td>10</td>\n",
              "        </tr>\n",
              "    </tbody>\n",
              "</table>"
            ],
            "text/plain": [
              "[('El Viento', 1),\n",
              " ('El Sol', 3),\n",
              " ('El Mar', 4),\n",
              " ('La Luna', 5),\n",
              " ('El Horizonte', 6),\n",
              " ('La Estrella', 8),\n",
              " ('El Océano', 10)]"
            ]
          },
          "execution_count": 62,
          "metadata": {},
          "output_type": "execute_result"
        }
      ],
      "source": [
        "%%sql\n",
        "select nombre,id_socio\n",
        "from barcos\n",
        "where cuota > 500;\n"
      ]
    },
    {
      "cell_type": "markdown",
      "id": "pTl4-C4ymjpp",
      "metadata": {
        "id": "pTl4-C4ymjpp"
      },
      "source": [
        "5. ¿Qué barcos han salido con destino a 'Mallorca'?"
      ]
    },
    {
      "cell_type": "code",
      "execution_count": 63,
      "id": "tzlnW9Etmo8L",
      "metadata": {
        "colab": {
          "base_uri": "https://localhost:8080/",
          "height": 158
        },
        "id": "tzlnW9Etmo8L",
        "outputId": "075084de-cec5-48c0-a96b-141c211202cf"
      },
      "outputs": [
        {
          "name": "stdout",
          "output_type": "stream",
          "text": [
            " * sqlite:///ejemplos.db\n",
            "Done.\n",
            "Done.\n"
          ]
        },
        {
          "data": {
            "text/html": [
              "<table>\n",
              "    <thead>\n",
              "        <tr>\n",
              "            <th>nombre</th>\n",
              "        </tr>\n",
              "    </thead>\n",
              "    <tbody>\n",
              "        <tr>\n",
              "            <td>El Viento</td>\n",
              "        </tr>\n",
              "        <tr>\n",
              "            <td>El Mar</td>\n",
              "        </tr>\n",
              "        <tr>\n",
              "            <td>El Horizonte</td>\n",
              "        </tr>\n",
              "    </tbody>\n",
              "</table>"
            ],
            "text/plain": [
              "[('El Viento',), ('El Mar',), ('El Horizonte',)]"
            ]
          },
          "execution_count": 63,
          "metadata": {},
          "output_type": "execute_result"
        }
      ],
      "source": [
        "%%sql\n",
        "-- con esto devolvemos las matriculas de barcos que tienen como destino mallorca\n",
        "select matricula\n",
        "from salidas\n",
        "where destino like 'Mallorca';\n",
        "\n",
        "-- seleccionamos los nombres de estos barcos\n",
        "select nombre\n",
        "from barcos\n",
        "where matricula in (\n",
        "  select matricula\n",
        "  from salidas\n",
        "  where destino like 'Mallorca'\n",
        ");"
      ]
    },
    {
      "cell_type": "markdown",
      "id": "GsLPyY6WmtEn",
      "metadata": {
        "id": "GsLPyY6WmtEn"
      },
      "source": [
        "6. ¿Qué patrones (nombre y dirección) han llevado un barco cuyo socio vive en 'Barcelona'?"
      ]
    },
    {
      "cell_type": "code",
      "execution_count": 61,
      "id": "AZJDPqvbmvOK",
      "metadata": {
        "colab": {
          "base_uri": "https://localhost:8080/",
          "height": 134
        },
        "id": "AZJDPqvbmvOK",
        "outputId": "df454be8-f0cf-414a-feae-04923b62ab2e"
      },
      "outputs": [
        {
          "name": "stdout",
          "output_type": "stream",
          "text": [
            " * sqlite:///ejemplos.db\n",
            "Done.\n",
            "Done.\n",
            "Done.\n"
          ]
        },
        {
          "data": {
            "text/html": [
              "<table>\n",
              "    <thead>\n",
              "        <tr>\n",
              "            <th>patron_nombre</th>\n",
              "            <th>patron_direccion</th>\n",
              "        </tr>\n",
              "    </thead>\n",
              "    <tbody>\n",
              "        <tr>\n",
              "            <td>Patrón 2</td>\n",
              "            <td>Avenida del Puerto 3, Valencia</td>\n",
              "        </tr>\n",
              "    </tbody>\n",
              "</table>"
            ],
            "text/plain": [
              "[('Patrón 2', 'Avenida del Puerto 3, Valencia')]"
            ]
          },
          "execution_count": 61,
          "metadata": {},
          "output_type": "execute_result"
        }
      ],
      "source": [
        "%%sql\n",
        "-- los id_socio que tienen direccion en barcelona\n",
        "select id_socio\n",
        "from socios\n",
        "where direccion like '%Barcelona%' ;\n",
        "\n",
        "-- matriculas de barcos que pertenecen a los socios con direccion en barcelona\n",
        "select matricula from barcos where id_socio in (\n",
        "  select id_socio from socios where direccion like '%Barcelona%');\n",
        "\n",
        "-- con esas subconsultas podemos hacer esta consulta\n",
        "select patron_nombre,patron_direccion from salidas\n",
        "where matricula in (\n",
        "  select matricula from barcos where id_socio in (\n",
        "    select id_socio from socios where direccion like '%Barcelona%')\n",
        ");\n"
      ]
    },
    {
      "cell_type": "markdown",
      "id": "ox9iE2T6j6Qe",
      "metadata": {
        "id": "ox9iE2T6j6Qe"
      },
      "source": [
        "### Resolver nuevamentos los incisos, pero ahora usa JOIN\n",
        "1. ¿Qué socios tienen barcos amarrados en un número de amarre mayor que 10?"
      ]
    },
    {
      "cell_type": "code",
      "execution_count": 82,
      "id": "GLzT8mCxALp4",
      "metadata": {
        "colab": {
          "base_uri": "https://localhost:8080/",
          "height": 182
        },
        "id": "GLzT8mCxALp4",
        "outputId": "55cb923a-a833-4ffe-e6ba-0debf2ca7d32"
      },
      "outputs": [
        {
          "name": "stdout",
          "output_type": "stream",
          "text": [
            " * sqlite:///ejemplos.db\n",
            "Done.\n"
          ]
        },
        {
          "data": {
            "text/html": [
              "<table>\n",
              "    <thead>\n",
              "        <tr>\n",
              "            <th>nombre</th>\n",
              "        </tr>\n",
              "    </thead>\n",
              "    <tbody>\n",
              "        <tr>\n",
              "            <td>Juan Pérez</td>\n",
              "        </tr>\n",
              "        <tr>\n",
              "            <td>Luis Fernández</td>\n",
              "        </tr>\n",
              "        <tr>\n",
              "            <td>Carlos López</td>\n",
              "        </tr>\n",
              "        <tr>\n",
              "            <td>Marta Díaz</td>\n",
              "        </tr>\n",
              "        <tr>\n",
              "            <td>María Torres</td>\n",
              "        </tr>\n",
              "    </tbody>\n",
              "</table>"
            ],
            "text/plain": [
              "[('Juan Pérez',),\n",
              " ('Luis Fernández',),\n",
              " ('Carlos López',),\n",
              " ('Marta Díaz',),\n",
              " ('María Torres',)]"
            ]
          },
          "execution_count": 82,
          "metadata": {},
          "output_type": "execute_result"
        }
      ],
      "source": [
        "%%sql\n",
        "select s.nombre from barcos b\n",
        "JOIN socios s on s.id_socio = b.id_socio\n",
        "where b.numero_amarre > 10 ;"
      ]
    },
    {
      "cell_type": "markdown",
      "id": "mJJkAhkVAw4N",
      "metadata": {
        "id": "mJJkAhkVAw4N"
      },
      "source": [
        "2. ¿Cuáles son los nombres de los barcos y sus cuotas de aquellos barcos cuyo socio se llama 'Juan Pérez'?"
      ]
    },
    {
      "cell_type": "code",
      "execution_count": 93,
      "id": "PnZz1YO8A-tk",
      "metadata": {
        "colab": {
          "base_uri": "https://localhost:8080/",
          "height": 98
        },
        "id": "PnZz1YO8A-tk",
        "outputId": "caf1459c-a1fd-4af3-f588-55136cf2a37b"
      },
      "outputs": [
        {
          "name": "stdout",
          "output_type": "stream",
          "text": [
            " * sqlite:///ejemplos.db\n",
            "Done.\n"
          ]
        },
        {
          "data": {
            "text/html": [
              "<table>\n",
              "    <thead>\n",
              "        <tr>\n",
              "            <th>nombre</th>\n",
              "        </tr>\n",
              "    </thead>\n",
              "    <tbody>\n",
              "        <tr>\n",
              "            <td>El Viento</td>\n",
              "        </tr>\n",
              "    </tbody>\n",
              "</table>"
            ],
            "text/plain": [
              "[('El Viento',)]"
            ]
          },
          "execution_count": 93,
          "metadata": {},
          "output_type": "execute_result"
        }
      ],
      "source": [
        "%%sql\n",
        "select b.nombre from barcos b\n",
        "JOIN socios s on s.id_socio = b.id_socio\n",
        "where s.nombre like 'Juan Pérez';\n"
      ]
    },
    {
      "cell_type": "markdown",
      "id": "yk0e4EqFA2Wi",
      "metadata": {
        "id": "yk0e4EqFA2Wi"
      },
      "source": [
        "3. ¿Cuántas salidas ha realizado el barco con matrícula 'ABC123'?"
      ]
    },
    {
      "cell_type": "code",
      "execution_count": 92,
      "id": "DnZcgiyAA7IX",
      "metadata": {
        "colab": {
          "base_uri": "https://localhost:8080/",
          "height": 98
        },
        "id": "DnZcgiyAA7IX",
        "outputId": "943b92fc-51d5-494e-fd52-b3cba980c155"
      },
      "outputs": [
        {
          "name": "stdout",
          "output_type": "stream",
          "text": [
            " * sqlite:///ejemplos.db\n",
            "Done.\n"
          ]
        },
        {
          "data": {
            "text/html": [
              "<table>\n",
              "    <thead>\n",
              "        <tr>\n",
              "            <th>matricula</th>\n",
              "            <th>salidas</th>\n",
              "        </tr>\n",
              "    </thead>\n",
              "    <tbody>\n",
              "        <tr>\n",
              "            <td>ABC123</td>\n",
              "            <td>1</td>\n",
              "        </tr>\n",
              "    </tbody>\n",
              "</table>"
            ],
            "text/plain": [
              "[('ABC123', 1)]"
            ]
          },
          "execution_count": 92,
          "metadata": {},
          "output_type": "execute_result"
        }
      ],
      "source": [
        "%%sql\n",
        "select matricula,count(id_salida) as salidas\n",
        "from salidas\n",
        "where matricula like 'ABC123';\n"
      ]
    },
    {
      "cell_type": "markdown",
      "id": "Qeloyr4lBBNt",
      "metadata": {
        "id": "Qeloyr4lBBNt"
      },
      "source": [
        "4. Lista los barcos que tienen una cuota mayor a 500 y sus respectivos socios."
      ]
    },
    {
      "cell_type": "code",
      "execution_count": 99,
      "id": "nfsIe3C3BCkR",
      "metadata": {
        "colab": {
          "base_uri": "https://localhost:8080/",
          "height": 225
        },
        "id": "nfsIe3C3BCkR",
        "outputId": "5bbe6130-f9b2-46ec-8a8f-94eb34463981"
      },
      "outputs": [
        {
          "name": "stdout",
          "output_type": "stream",
          "text": [
            " * sqlite:///ejemplos.db\n",
            "Done.\n"
          ]
        },
        {
          "data": {
            "text/html": [
              "<table>\n",
              "    <thead>\n",
              "        <tr>\n",
              "            <th>nombre</th>\n",
              "            <th>nombre_1</th>\n",
              "        </tr>\n",
              "    </thead>\n",
              "    <tbody>\n",
              "        <tr>\n",
              "            <td>El Viento</td>\n",
              "            <td>Juan Pérez</td>\n",
              "        </tr>\n",
              "        <tr>\n",
              "            <td>El Sol</td>\n",
              "            <td>Luis Fernández</td>\n",
              "        </tr>\n",
              "        <tr>\n",
              "            <td>El Mar</td>\n",
              "            <td>Laura Sánchez</td>\n",
              "        </tr>\n",
              "        <tr>\n",
              "            <td>La Luna</td>\n",
              "            <td>Carlos López</td>\n",
              "        </tr>\n",
              "        <tr>\n",
              "            <td>El Horizonte</td>\n",
              "            <td>Marta Díaz</td>\n",
              "        </tr>\n",
              "        <tr>\n",
              "            <td>La Estrella</td>\n",
              "            <td>Lucía Jiménez</td>\n",
              "        </tr>\n",
              "        <tr>\n",
              "            <td>El Océano</td>\n",
              "            <td>Fernando Martín</td>\n",
              "        </tr>\n",
              "    </tbody>\n",
              "</table>"
            ],
            "text/plain": [
              "[('El Viento', 'Juan Pérez'),\n",
              " ('El Sol', 'Luis Fernández'),\n",
              " ('El Mar', 'Laura Sánchez'),\n",
              " ('La Luna', 'Carlos López'),\n",
              " ('El Horizonte', 'Marta Díaz'),\n",
              " ('La Estrella', 'Lucía Jiménez'),\n",
              " ('El Océano', 'Fernando Martín')]"
            ]
          },
          "execution_count": 99,
          "metadata": {},
          "output_type": "execute_result"
        }
      ],
      "source": [
        "%%sql\n",
        "select b.nombre,s.nombre from barcos b\n",
        "JOIN socios s on s.id_socio = b.id_socio\n",
        "where b.cuota > 500;\n"
      ]
    },
    {
      "cell_type": "markdown",
      "id": "GMqo1KlDBFwm",
      "metadata": {
        "id": "GMqo1KlDBFwm"
      },
      "source": [
        "5. ¿Qué barcos han salido con destino a 'Mallorca'?"
      ]
    },
    {
      "cell_type": "code",
      "execution_count": 103,
      "id": "etjf3fFgBFd-",
      "metadata": {
        "colab": {
          "base_uri": "https://localhost:8080/",
          "height": 140
        },
        "id": "etjf3fFgBFd-",
        "outputId": "8b13fca0-21ec-426c-9ad6-16c0650a6487"
      },
      "outputs": [
        {
          "name": "stdout",
          "output_type": "stream",
          "text": [
            " * sqlite:///ejemplos.db\n",
            "Done.\n"
          ]
        },
        {
          "data": {
            "text/html": [
              "<table>\n",
              "    <thead>\n",
              "        <tr>\n",
              "            <th>nombre</th>\n",
              "        </tr>\n",
              "    </thead>\n",
              "    <tbody>\n",
              "        <tr>\n",
              "            <td>El Viento</td>\n",
              "        </tr>\n",
              "        <tr>\n",
              "            <td>El Mar</td>\n",
              "        </tr>\n",
              "        <tr>\n",
              "            <td>El Horizonte</td>\n",
              "        </tr>\n",
              "    </tbody>\n",
              "</table>"
            ],
            "text/plain": [
              "[('El Viento',), ('El Mar',), ('El Horizonte',)]"
            ]
          },
          "execution_count": 103,
          "metadata": {},
          "output_type": "execute_result"
        }
      ],
      "source": [
        "%%sql\n",
        "select b.nombre from salidas s\n",
        "join barcos b on b.matricula = s.matricula\n",
        "where destino like 'Mallorca';\n"
      ]
    },
    {
      "cell_type": "markdown",
      "id": "4rDZTOCSBJQJ",
      "metadata": {
        "id": "4rDZTOCSBJQJ"
      },
      "source": [
        "6. ¿Qué patrones (nombre y dirección) han llevado un barco cuyo socio vive en 'Barcelona'?"
      ]
    },
    {
      "cell_type": "code",
      "execution_count": 112,
      "id": "s6MRh7hHBKMb",
      "metadata": {
        "colab": {
          "base_uri": "https://localhost:8080/",
          "height": 98
        },
        "id": "s6MRh7hHBKMb",
        "outputId": "088a12e6-40b7-4424-922e-a8f9d1850fad"
      },
      "outputs": [
        {
          "name": "stdout",
          "output_type": "stream",
          "text": [
            " * sqlite:///ejemplos.db\n",
            "Done.\n"
          ]
        },
        {
          "data": {
            "text/html": [
              "<table>\n",
              "    <thead>\n",
              "        <tr>\n",
              "            <th>patron_nombre</th>\n",
              "            <th>patron_direccion</th>\n",
              "        </tr>\n",
              "    </thead>\n",
              "    <tbody>\n",
              "        <tr>\n",
              "            <td>Patrón 2</td>\n",
              "            <td>Avenida del Puerto 3, Valencia</td>\n",
              "        </tr>\n",
              "    </tbody>\n",
              "</table>"
            ],
            "text/plain": [
              "[('Patrón 2', 'Avenida del Puerto 3, Valencia')]"
            ]
          },
          "execution_count": 112,
          "metadata": {},
          "output_type": "execute_result"
        }
      ],
      "source": [
        "%%sql\n",
        "select sa.patron_nombre,sa.patron_direccion\n",
        "from salidas sa\n",
        "JOIN barcos b on b.matricula = sa.matricula\n",
        "JOIN socios so on so.id_socio = b.id_socio\n",
        "where so.direccion like '%Barcelona%';\n"
      ]
    },
    {
      "cell_type": "markdown",
      "id": "d3111595",
      "metadata": {
        "id": "d3111595"
      },
      "source": [
        "\n",
        "## EJERCICIO 2: Base de datos para un gabinete de abogados\n",
        "\n",
        "### Descripción:\n",
        "Se quiere diseñar una base de datos relacional para almacenar información sobre los asuntos que lleva un gabinete de abogados. Cada asunto tiene un número de expediente que lo identifica y corresponde a un solo cliente. Del asunto se debe almacenar:\n",
        "- Período (fecha de inicio y fecha de archivo o finalización)\n",
        "- Estado (en trámite, archivado, etc.)\n",
        "- Datos personales del cliente (DNI, nombre, dirección, etc.)\n",
        "\n",
        "Algunos asuntos son llevados por uno o varios procuradores, de los que nos interesa también almacenar los datos personales.\n",
        "\n",
        "### Esquema propuesto:\n",
        "- Tabla `Clientes`: Almacena la información de los clientes: dni (clave primaria), nombre y dirección.\n",
        "- Tabla `Asuntos`: Almacena la información de los asuntos: numero de expediente (clave primaria), dni del cliente (clave externa), fecha de inicio, fecha de fin y estado (Abierto o Cerrado). Si el asunto está abierto, no tiene fecha de fin.\n",
        "- Tabla `Procuradores`: Almacena la información de los procuradores: id del procurador (clave priaria), nombre y dirección.\n",
        "- Tabla `Asuntos_Procuradores`: Relaciona los asuntos con los procuradores (muchos a muchos).\n",
        "\n",
        "### SQL para crear las tablas:\n"
      ]
    },
    {
      "cell_type": "code",
      "execution_count": 128,
      "id": "QtKIwysZeNtz",
      "metadata": {
        "colab": {
          "base_uri": "https://localhost:8080/"
        },
        "id": "QtKIwysZeNtz",
        "outputId": "dada5660-bb9f-43ef-9ba9-b868f59d00a4"
      },
      "outputs": [
        {
          "name": "stdout",
          "output_type": "stream",
          "text": [
            " * sqlite:///ejemplos.db\n",
            "Done.\n",
            "Done.\n",
            "Done.\n",
            "Done.\n",
            "Done.\n",
            "Done.\n",
            "Done.\n",
            "Done.\n"
          ]
        },
        {
          "data": {
            "text/plain": [
              "[]"
            ]
          },
          "execution_count": 128,
          "metadata": {},
          "output_type": "execute_result"
        }
      ],
      "source": [
        "%%sql\n",
        "DROP TABLE IF EXISTS clientes;\n",
        "CREATE TABLE clientes (\n",
        "  dni INT NOT NULL,\n",
        "  nombre VARCHAR(100),\n",
        "  direccion VARCHAR(100),\n",
        "  PRIMARY KEY (dni)\n",
        ");\n",
        "\n",
        "DROP TABLE IF EXISTS asuntos;\n",
        "CREATE TABLE asuntos (\n",
        "  numero_expediente INT NOT NULL,\n",
        "  dni_cliente INT,\n",
        "  fecha_inicio DATE,\n",
        "  fecha_fin DATE,\n",
        "  -- en mysql hubiesemos usando enum\n",
        "  -- como en sqlite no existe, hacemos un check en el campo para que sea Abierto o Cerrado\n",
        "  estado VARCHAR(20) check(estado in ('Abierto','Cerrado')) NULL,\n",
        "  PRIMARY KEY (numero_expediente),\n",
        "  FOREIGN KEY (dni_cliente) REFERENCES clientes (dni)\n",
        ");\n",
        "\n",
        "DROP TABLE IF EXISTS procuradores;\n",
        "CREATE TABLE procuradores (\n",
        "  id INT NOT NULL,\n",
        "  nombre VARCHAR(100),\n",
        "  direccion VARCHAR(100),\n",
        "  PRIMARY KEY (id)\n",
        ");\n",
        "\n",
        "DROP TABLE IF EXISTS asuntos_procuradores;\n",
        "CREATE TABLE asuntos_procuradores (\n",
        "  numero_expediente INT,\n",
        "  id_procurador INT,\n",
        "  FOREIGN KEY (numero_expediente) REFERENCES asuntos (numero_expediente),\n",
        "  FOREIGN KEY (id_procurador) REFERENCES procuradores (id)\n",
        ");"
      ]
    },
    {
      "cell_type": "markdown",
      "id": "Yhom8Hjlesap",
      "metadata": {
        "id": "Yhom8Hjlesap"
      },
      "source": []
    },
    {
      "cell_type": "code",
      "execution_count": 132,
      "id": "5o4a19qHetVz",
      "metadata": {
        "colab": {
          "base_uri": "https://localhost:8080/"
        },
        "id": "5o4a19qHetVz",
        "outputId": "96c2f73e-227b-48c5-9e2d-c29a46e4b94f"
      },
      "outputs": [
        {
          "name": "stdout",
          "output_type": "stream",
          "text": [
            " * sqlite:///ejemplos.db\n",
            "0 rows affected.\n",
            "0 rows affected.\n",
            "3 rows affected.\n",
            "3 rows affected.\n",
            "3 rows affected.\n",
            "3 rows affected.\n",
            "3 rows affected.\n",
            "4 rows affected.\n"
          ]
        },
        {
          "data": {
            "text/plain": [
              "[]"
            ]
          },
          "execution_count": 132,
          "metadata": {},
          "output_type": "execute_result"
        }
      ],
      "source": [
        "%%sql\n",
        "\n",
        "-- Poblar la tabla Clientes\n",
        "INSERT INTO Clientes (dni, nombre, direccion)\n",
        "VALUES\n",
        "('123456789', 'Juan Pérez', 'Calle Pueyrredón 3498, Buenos Aires'),\n",
        "('987654321', 'Ana García', 'Calle 5 323, La Plata'),\n",
        "('456123789', 'Luis Fernández', 'Avenida de Gral. Paz 1056, Bahía Blanca');\n",
        "\n",
        "-- Poblar la tabla Asuntos\n",
        "INSERT INTO Asuntos (numero_expediente, dni_cliente, fecha_inicio, fecha_fin, estado)\n",
        "VALUES\n",
        "(1, '123456789', '2023-01-15', '2023-07-20', 'Cerrado'),\n",
        "(2, '987654321', '2023-05-10', NULL, 'Abierto'),\n",
        "(3, '456123789', '2023-06-01', '2023-09-10', 'Cerrado');\n",
        "\n",
        "-- Poblar la tabla Procuradores\n",
        "INSERT INTO Procuradores (id, nombre, direccion)\n",
        "VALUES\n",
        "(1, 'Laura Sánchez', 'Calle Soler 3765, Buenos Aires'),\n",
        "(2, 'Carlos López', 'Calle Estrellas 8, Mar del Plata'),\n",
        "(3, 'Marta Díaz', 'Calle Estación 12, Olavarria');\n",
        "\n",
        "-- Poblar la tabla Asuntos_Procuradores\n",
        "INSERT INTO Asuntos_Procuradores (numero_expediente, id_procurador)\n",
        "VALUES\n",
        "(1, 1),\n",
        "(2, 2),\n",
        "(3, 3),\n",
        "(2, 1);  -- Un asunto puede tener varios procuradores"
      ]
    },
    {
      "cell_type": "markdown",
      "id": "OvOaPQYTgkBJ",
      "metadata": {
        "id": "OvOaPQYTgkBJ"
      },
      "source": [
        "### Resolver estas consignas usando _únicamente_ JOIN en las consultas:\n",
        "1. ¿Cuál es el nombre y la dirección de los procuradores que han trabajado en un asunto abierto?"
      ]
    },
    {
      "cell_type": "code",
      "execution_count": 139,
      "id": "ZO891c6ZgrZm",
      "metadata": {
        "colab": {
          "base_uri": "https://localhost:8080/",
          "height": 119
        },
        "id": "ZO891c6ZgrZm",
        "outputId": "cb234bdd-2b70-4302-9063-3b13953b58ed"
      },
      "outputs": [
        {
          "name": "stdout",
          "output_type": "stream",
          "text": [
            " * sqlite:///ejemplos.db\n",
            "Done.\n"
          ]
        },
        {
          "data": {
            "text/html": [
              "<table>\n",
              "    <thead>\n",
              "        <tr>\n",
              "            <th>nombre</th>\n",
              "            <th>direccion</th>\n",
              "        </tr>\n",
              "    </thead>\n",
              "    <tbody>\n",
              "        <tr>\n",
              "            <td>Carlos López</td>\n",
              "            <td>Calle Estrellas 8, Mar del Plata</td>\n",
              "        </tr>\n",
              "        <tr>\n",
              "            <td>Laura Sánchez</td>\n",
              "            <td>Calle Soler 3765, Buenos Aires</td>\n",
              "        </tr>\n",
              "    </tbody>\n",
              "</table>"
            ],
            "text/plain": [
              "[('Carlos López', 'Calle Estrellas 8, Mar del Plata'),\n",
              " ('Laura Sánchez', 'Calle Soler 3765, Buenos Aires')]"
            ]
          },
          "execution_count": 139,
          "metadata": {},
          "output_type": "execute_result"
        }
      ],
      "source": [
        "%%sql\n",
        "select p.nombre,p.direccion from asuntos_procuradores ap\n",
        "JOIN procuradores p on  p.id = ap.id_procurador\n",
        "JOIN asuntos a on a.numero_expediente = ap.numero_expediente\n",
        "where a.estado = 'Abierto'"
      ]
    },
    {
      "cell_type": "markdown",
      "id": "Y5qojbXWg9mh",
      "metadata": {
        "id": "Y5qojbXWg9mh"
      },
      "source": [
        "2. ¿Qué clientes han tenido asuntos en los que ha participado el procurador Carlos López?"
      ]
    },
    {
      "cell_type": "code",
      "execution_count": 144,
      "id": "JlQjPghDhBrj",
      "metadata": {
        "colab": {
          "base_uri": "https://localhost:8080/",
          "height": 98
        },
        "id": "JlQjPghDhBrj",
        "outputId": "3bdc7edb-a85c-4095-b7d1-88b6fd50776e"
      },
      "outputs": [
        {
          "name": "stdout",
          "output_type": "stream",
          "text": [
            " * sqlite:///ejemplos.db\n",
            "Done.\n"
          ]
        },
        {
          "data": {
            "text/html": [
              "<table>\n",
              "    <thead>\n",
              "        <tr>\n",
              "            <th>nombre</th>\n",
              "        </tr>\n",
              "    </thead>\n",
              "    <tbody>\n",
              "        <tr>\n",
              "            <td>Ana García</td>\n",
              "        </tr>\n",
              "    </tbody>\n",
              "</table>"
            ],
            "text/plain": [
              "[('Ana García',)]"
            ]
          },
          "execution_count": 144,
          "metadata": {},
          "output_type": "execute_result"
        }
      ],
      "source": [
        "%%sql\n",
        "select c.nombre from asuntos_procuradores ap\n",
        "JOIN procuradores p on  p.id = ap.id_procurador\n",
        "JOIN asuntos a on a.numero_expediente = ap.numero_expediente\n",
        "JOIN clientes c on c.dni = a.dni_cliente\n",
        "where p.nombre like 'Carlos López'"
      ]
    },
    {
      "cell_type": "markdown",
      "id": "1NfxB7M6hKsX",
      "metadata": {
        "id": "1NfxB7M6hKsX"
      },
      "source": [
        "3. ¿Cuántos asuntos ha gestionado cada procurador?"
      ]
    },
    {
      "cell_type": "code",
      "execution_count": 149,
      "id": "kZHFCFX0hS5-",
      "metadata": {
        "colab": {
          "base_uri": "https://localhost:8080/",
          "height": 140
        },
        "id": "kZHFCFX0hS5-",
        "outputId": "676dd31d-041e-40bf-e960-862d541d2e91"
      },
      "outputs": [
        {
          "name": "stdout",
          "output_type": "stream",
          "text": [
            " * sqlite:///ejemplos.db\n",
            "Done.\n"
          ]
        },
        {
          "data": {
            "text/html": [
              "<table>\n",
              "    <thead>\n",
              "        <tr>\n",
              "            <th>nombre</th>\n",
              "            <th>Cantidad_Asuntos</th>\n",
              "        </tr>\n",
              "    </thead>\n",
              "    <tbody>\n",
              "        <tr>\n",
              "            <td>Laura Sánchez</td>\n",
              "            <td>2</td>\n",
              "        </tr>\n",
              "        <tr>\n",
              "            <td>Marta Díaz</td>\n",
              "            <td>1</td>\n",
              "        </tr>\n",
              "        <tr>\n",
              "            <td>Carlos López</td>\n",
              "            <td>1</td>\n",
              "        </tr>\n",
              "    </tbody>\n",
              "</table>"
            ],
            "text/plain": [
              "[('Laura Sánchez', 2), ('Marta Díaz', 1), ('Carlos López', 1)]"
            ]
          },
          "execution_count": 149,
          "metadata": {},
          "output_type": "execute_result"
        }
      ],
      "source": [
        "%%sql\n",
        "select p.nombre,count(*) as Cantidad_Asuntos from asuntos_procuradores ap\n",
        "JOIN procuradores p on  p.id = ap.id_procurador\n",
        "JOIN asuntos a on a.numero_expediente = ap.numero_expediente\n",
        "group by p.nombre\n",
        "order by Cantidad_Asuntos desc"
      ]
    },
    {
      "cell_type": "markdown",
      "id": "zHUFuerKhjc2",
      "metadata": {
        "id": "zHUFuerKhjc2"
      },
      "source": [
        "4. Lista los números de expediente y fechas de inicio de los asuntos de los clientes que viven en Buenos Aires."
      ]
    },
    {
      "cell_type": "code",
      "execution_count": 152,
      "id": "9RDQt_5lipod",
      "metadata": {
        "colab": {
          "base_uri": "https://localhost:8080/",
          "height": 98
        },
        "id": "9RDQt_5lipod",
        "outputId": "17714302-0f95-409c-877d-cbba1f96436a"
      },
      "outputs": [
        {
          "name": "stdout",
          "output_type": "stream",
          "text": [
            " * sqlite:///ejemplos.db\n",
            "Done.\n"
          ]
        },
        {
          "data": {
            "text/html": [
              "<table>\n",
              "    <thead>\n",
              "        <tr>\n",
              "            <th>numero_expediente</th>\n",
              "            <th>fecha_inicio</th>\n",
              "        </tr>\n",
              "    </thead>\n",
              "    <tbody>\n",
              "        <tr>\n",
              "            <td>1</td>\n",
              "            <td>2023-01-15</td>\n",
              "        </tr>\n",
              "    </tbody>\n",
              "</table>"
            ],
            "text/plain": [
              "[(1, '2023-01-15')]"
            ]
          },
          "execution_count": 152,
          "metadata": {},
          "output_type": "execute_result"
        }
      ],
      "source": [
        "%%sql\n",
        "select a.numero_expediente,a.fecha_inicio from clientes c\n",
        "join asuntos a on a.dni_cliente = c.dni\n",
        "where c.direccion like '%Buenos Aires%'\n"
      ]
    },
    {
      "cell_type": "markdown",
      "id": "aIF74m2eV9J9",
      "metadata": {
        "id": "aIF74m2eV9J9"
      },
      "source": [
        "# Entrega\n",
        "La entrega consiste en completar esta hoja y subirla a su repositorio GIT\n",
        "Se deben entregar también los diagramas de esquema de tablas como imagenes aparte.\n",
        "Fecha límite: 30 de septiembre a las 23:59 hs"
      ]
    }
  ],
  "metadata": {
    "colab": {
      "provenance": []
    },
    "kernelspec": {
      "display_name": "Python 3",
      "name": "python3"
    },
    "language_info": {
      "codemirror_mode": {
        "name": "ipython",
        "version": 3
      },
      "file_extension": ".py",
      "mimetype": "text/x-python",
      "name": "python",
      "nbconvert_exporter": "python",
      "pygments_lexer": "ipython3",
      "version": "3.12.3"
    }
  },
  "nbformat": 4,
  "nbformat_minor": 5
}
